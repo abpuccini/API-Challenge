{
 "cells": [
  {
   "cell_type": "markdown",
   "metadata": {},
   "source": [
    "# WeatherPy"
   ]
  },
  {
   "cell_type": "code",
   "execution_count": null,
   "metadata": {
    "scrolled": true
   },
   "outputs": [],
   "source": [
    "# Dependencies and Setup\n",
    "import matplotlib.pyplot as plt\n",
    "import pandas as pd\n",
    "import numpy as np\n",
    "import requests\n",
    "import time\n",
    "import scipy.stats as st\n",
    "from scipy.stats import linregress\n",
    "\n",
    "# Import API key\n",
    "from api_keys import weather_api_key\n",
    "\n",
    "# Incorporated citipy to determine city based on latitude and longitude\n",
    "from citipy import citipy\n",
    "\n",
    "# Output File (CSV)\n",
    "output_data_file = \"output_data/cities.csv\"\n",
    "\n",
    "# Range of latitudes and longitudes\n",
    "lat_range = (-90, 90)\n",
    "lng_range = (-180, 180)"
   ]
  },
  {
   "cell_type": "markdown",
   "metadata": {},
   "source": [
    "## Generate Cities List"
   ]
  },
  {
   "cell_type": "code",
   "execution_count": null,
   "metadata": {},
   "outputs": [],
   "source": [
    "# List for holding lat_lngs and cities\n",
    "lat_lngs = []\n",
    "cities = []\n",
    "\n",
    "# Create a set of random lat and lng combinations\n",
    "lats = np.random.uniform(lat_range[0], lat_range[1], size=1500)\n",
    "lngs = np.random.uniform(lng_range[0], lng_range[1], size=1500)\n",
    "lat_lngs = zip(lats, lngs)\n",
    "\n",
    "# Identify nearest city for each lat, lng combination\n",
    "for lat_lng in lat_lngs:\n",
    "    city = citipy.nearest_city(lat_lng[0], lat_lng[1]).city_name\n",
    "    \n",
    "    # If the city is unique, then add it to a our cities list\n",
    "    if city not in cities:\n",
    "        cities.append(city)\n",
    "\n",
    "# Print the city count to confirm sufficient count\n",
    "no_cities = len(cities)\n",
    "no_cities"
   ]
  },
  {
   "cell_type": "markdown",
   "metadata": {},
   "source": [
    "## Perform API Calls"
   ]
  },
  {
   "cell_type": "code",
   "execution_count": null,
   "metadata": {},
   "outputs": [],
   "source": [
    "# Set url for API\n",
    "base_url = \"https://api.openweathermap.org/data/2.5/weather?\"\n",
    "\n",
    "# Set parameters for query url\n",
    "unit = 'imperial'\n",
    "api_key = weather_api_key\n",
    "\n",
    "# Create empty list to hold the data\n",
    "city_name = []\n",
    "latitude = []\n",
    "longitude = []\n",
    "max_temp = []\n",
    "humidity = []\n",
    "cloudiness = []\n",
    "wind_spd = []\n",
    "country = []\n",
    "date = []\n",
    "\n",
    "# At the beginning, data successfully retrieved equals 0\n",
    "record = 0\n",
    "\n",
    "# Print beginning log statement\n",
    "print(f'Beginning Data Retrieval')     \n",
    "print('-----------------------------------')\n",
    "    \n",
    "# Apply for loop  to retrive the data\n",
    "for city in cities:\n",
    "    \n",
    "    # Create search query, make request and store in json\n",
    "    query_url = base_url + 'q=' + city + '&appid=' + api_key + '&units=' + unit\n",
    "    response_data = requests.get(query_url).json()\n",
    "    \n",
    "    # Try to grab the data if they are available in the OpenWeather API\n",
    "    try:\n",
    "        \n",
    "        # Get data form JSON \n",
    "        name = response_data['name']\n",
    "        city_name.append(name)\n",
    "        lat = response_data['coord']['lat']\n",
    "        latitude.append(lat)\n",
    "        lon = response_data['coord']['lon']\n",
    "        longitude.append(lon)\n",
    "        mtemp = response_data['main']['temp_max']\n",
    "        max_temp.append(mtemp)\n",
    "        hmd = response_data['main']['humidity']\n",
    "        humidity.append(hmd)\n",
    "        clouds = response_data['clouds']['all']\n",
    "        cloudiness.append(clouds)\n",
    "        windsp = response_data['wind']['speed']\n",
    "        wind_spd.append(windsp)\n",
    "        cnt = response_data['sys']['country']\n",
    "        country.append(cnt)\n",
    "        d = response_data['dt']\n",
    "        date.append(d)\n",
    "        \n",
    "        # Plus 1 for the successful data retrived      \n",
    "        record += 1\n",
    "        \n",
    "        # Print log statement for successful data retrived\n",
    "        print(f'Processing Record {record} of {no_cities} | {city}')\n",
    "    \n",
    "    # Handle exceptions if the data is not available\n",
    "    except:\n",
    "        # Print log statement for unavailable data retrived\n",
    "        print(f'City not found | {city}')\n",
    "    \n",
    "    # Add a one second interval between queries to stay within API query limits\n",
    "    time.sleep(1)\n",
    "        \n",
    "# Print ending log statement\n",
    "print(f'-----------------------------------')\n",
    "print(f'Data Retrieval Completed')\n",
    "print(f'-----------------------------------')"
   ]
  },
  {
   "cell_type": "code",
   "execution_count": null,
   "metadata": {},
   "outputs": [],
   "source": [
    "# Check no. of data retrived successfully in each column\n",
    "data_lenth = {\n",
    "    'name': len(city_name),\n",
    "    'lat': len(latitude),\n",
    "    'lng': len(longitude),\n",
    "    'temp': len(max_temp),\n",
    "    'humd': len(humidity),\n",
    "    'cloud': len(cloudiness),\n",
    "    'wind': len(wind_spd),\n",
    "    'country': len(country),\n",
    "    'date': len(date)\n",
    "}\n",
    "\n",
    "print(json.dumps(data_lenth, indent=4))"
   ]
  },
  {
   "cell_type": "markdown",
   "metadata": {},
   "source": [
    "## Convert Raw Data to DataFrame"
   ]
  },
  {
   "cell_type": "code",
   "execution_count": null,
   "metadata": {},
   "outputs": [],
   "source": [
    "response_data_df = pd.DataFrame({\n",
    "    'City' : city_name,\n",
    "    'Latitude' : latitude,\n",
    "    'Longitude' : longitude,\n",
    "    'Max Temp' : max_temp,\n",
    "    'Humidity' : humidity,\n",
    "    'Cloudiness' : cloudiness,\n",
    "    'Wind Speed' : wind_spd,\n",
    "    'Country' : country,\n",
    "    'Date' : date\n",
    "})\n",
    "\n",
    "# Display dataframe\n",
    "response_data_df.head()"
   ]
  },
  {
   "cell_type": "code",
   "execution_count": null,
   "metadata": {},
   "outputs": [],
   "source": [
    "# Get basic statistical details\n",
    "response_data_df.describe()"
   ]
  },
  {
   "cell_type": "markdown",
   "metadata": {},
   "source": [
    "## Inspect the data and remove the cities where the humidity > 100%."
   ]
  },
  {
   "cell_type": "code",
   "execution_count": null,
   "metadata": {},
   "outputs": [],
   "source": [
    "# Get the indices of cities that have humidity over 100%.\n",
    "humidity_over_hundred = response_data_df[response_data_df.loc[response_data_df['Humidity'] > 100]]\n",
    "no_cities_humd = humidity_over_hundred['City'].count()"
   ]
  },
  {
   "cell_type": "code",
   "execution_count": null,
   "metadata": {},
   "outputs": [],
   "source": [
    "# Create if statement for city that has humidity over 100%\n",
    "if no_cities_humd == 0:\n",
    "    # No. of city = 0, copy df from original df\n",
    "    weather_data = response_data_df.copy()\n",
    "    print(f'There are no cities that have humidity over 100%')\n",
    "else:\n",
    "    # If there is at least 1 city that humidity over 100%, assign to a new df by df.drop() to get a cleaned df\n",
    "    weather_data = response_data_df.drop[humidity_over_hundred.index, inplace:False]"
   ]
  },
  {
   "cell_type": "code",
   "execution_count": null,
   "metadata": {},
   "outputs": [],
   "source": [
    "# Export the city data into a .csv file\n",
    "weather_data_csv = weather_data.to_csv(output_data_file, index=False, header=True)"
   ]
  },
  {
   "cell_type": "markdown",
   "metadata": {},
   "source": [
    "## Plotting the Data"
   ]
  },
  {
   "cell_type": "code",
   "execution_count": null,
   "metadata": {},
   "outputs": [],
   "source": [
    "# Read the csv file\n",
    "weather_data_df = pd.read_csv(output_data_file)\n",
    "\n",
    "# View weather data in dataframe\n",
    "weather_data_df.head()"
   ]
  },
  {
   "cell_type": "code",
   "execution_count": null,
   "metadata": {},
   "outputs": [],
   "source": [
    "# Get the date of data retrived\n",
    "time = time.localtime(weather_data_df['Date'][0])\n",
    "date = f'{time.tm_year}-{time.tm_mon}-{time.tm_mday}'"
   ]
  },
  {
   "cell_type": "markdown",
   "metadata": {},
   "source": [
    "### Latitude vs. Temperature Plot"
   ]
  },
  {
   "cell_type": "code",
   "execution_count": null,
   "metadata": {
    "scrolled": true
   },
   "outputs": [],
   "source": [
    "# Create scatter plot between Latitude and Max Temperature\n",
    "lat_temp = plt.scatter(weather_data_df['Latitude'], \n",
    "                       weather_data_df['Max Temp'], \n",
    "                       marker='o', \n",
    "                       color='steelblue', \n",
    "                       edgecolor='black')\n",
    "\n",
    "# Add title&labels and modify plot&layout\n",
    "plt.title(f'City Latitude vs. Temperature (F) \\n(Date: {date})', fontweight='bold')\n",
    "plt.xlabel('Latitude', fontweight='bold')\n",
    "plt.ylabel('Max Temperature (F)', fontweight='bold')\n",
    "plt.grid()\n",
    "plt.tight_layout()\n",
    "\n",
    "# Save figure and show the the plot\n",
    "plt.savefig('Images/lat_temp.png')\n",
    "plt.show()"
   ]
  },
  {
   "cell_type": "markdown",
   "metadata": {},
   "source": [
    "### Latitude vs. Humidity Plot"
   ]
  },
  {
   "cell_type": "code",
   "execution_count": null,
   "metadata": {},
   "outputs": [],
   "source": [
    "# Create scatter plot between Latitude and Humidity\n",
    "lat_humd = plt.scatter(weather_data_df['Latitude'], \n",
    "                       weather_data_df['Humidity'], \n",
    "                       marker='o', \n",
    "                       color='steelblue', \n",
    "                       edgecolor='black')\n",
    "\n",
    "# Add title&labels and modify plot&layout\n",
    "plt.title(f'City Latitude vs. Humidity \\n(Date: {date})', fontweight='bold')\n",
    "plt.xlabel('Latitude', fontweight='bold')\n",
    "plt.ylabel('Humidity (%)', fontweight='bold')\n",
    "plt.grid()\n",
    "plt.tight_layout()\n",
    "\n",
    "# Save figure and show the the plot\n",
    "plt.savefig('Images/lat_humd.png')\n",
    "plt.show()"
   ]
  },
  {
   "cell_type": "markdown",
   "metadata": {},
   "source": [
    "### Latitude vs. Cloudiness Plot"
   ]
  },
  {
   "cell_type": "code",
   "execution_count": null,
   "metadata": {},
   "outputs": [],
   "source": [
    "# Create scatter plot between Latitude and Cloundiness\n",
    "lat_cld = plt.scatter(weather_data_df['Latitude'], \n",
    "                       weather_data_df['Cloudiness'], \n",
    "                       marker='o', \n",
    "                       color='steelblue', \n",
    "                       edgecolor='black')\n",
    "\n",
    "# Add title&labels and modify plot&layout\n",
    "plt.title(f'City Latitude vs. Cloudiness \\n(Date: {date})', fontweight='bold')\n",
    "plt.xlabel('Latitude', fontweight='bold')\n",
    "plt.ylabel('Cloudiness (%)', fontweight='bold')\n",
    "plt.grid()\n",
    "plt.tight_layout()\n",
    "\n",
    "# Save figure and show the the plot\n",
    "plt.savefig('Images/lat_cloud.png')\n",
    "plt.show()"
   ]
  },
  {
   "cell_type": "markdown",
   "metadata": {},
   "source": [
    "### Latitude vs. Wind Speed Plot"
   ]
  },
  {
   "cell_type": "code",
   "execution_count": null,
   "metadata": {},
   "outputs": [],
   "source": [
    "# Create scatter plot between Latitude and Wind Speed\n",
    "lat_wind = plt.scatter(weather_data_df['Latitude'], \n",
    "                       weather_data_df['Wind Speed'], \n",
    "                       marker='o', \n",
    "                       color='steelblue', \n",
    "                       edgecolor='black')\n",
    "\n",
    "# Add title&labels and modify plot&layout\n",
    "plt.title(f'City Latitude vs. Wind Speed \\n(Date: {date})', fontweight='bold')\n",
    "plt.xlabel('Latitude', fontweight='bold')\n",
    "plt.ylabel('Wind Speed (mph)', fontweight='bold')\n",
    "plt.grid()\n",
    "plt.tight_layout()\n",
    "\n",
    "# Save figure and show the the plot\n",
    "plt.savefig('Images/lat_wind.png')\n",
    "plt.show()"
   ]
  },
  {
   "cell_type": "markdown",
   "metadata": {},
   "source": [
    "## Linear Regression"
   ]
  },
  {
   "cell_type": "code",
   "execution_count": null,
   "metadata": {},
   "outputs": [],
   "source": [
    "# Generate dataframe only for cities in Northern Hemisphere\n",
    "north_df = weather_data_df.loc[weather_data_df['Latitude'] >= 0]\n",
    "\n",
    "# Generate dataframe only for cities in Northern Hemisphere\n",
    "south_df = weather_data_df.loc[weather_data_df['Latitude'] < 0]\n",
    "\n",
    "# Linear Regression: Focus on city latitude in Northern and Southern Hemisphere\n",
    "# Define x_values for latitude in Northern and Southern Hemisphere\n",
    "north_lat = north_df['Latitude'] # North\n",
    "south_lat = south_df['Latitude'] # South"
   ]
  },
  {
   "cell_type": "markdown",
   "metadata": {},
   "source": [
    "###  Northern Hemisphere - Max Temp vs. Latitude Linear Regression"
   ]
  },
  {
   "cell_type": "code",
   "execution_count": null,
   "metadata": {},
   "outputs": [],
   "source": [
    "# Define y values: Max Temperature (F)\n",
    "north_temp = north_df['Max Temp']\n",
    "\n",
    "# Calculate the correlation\n",
    "nt_correlation = round(st.pearsonr(north_lat, north_temp)[0],2)\n",
    "print(f\"The correlation between Northern Temp(F) and Latitude is {nt_correlation}\")\n",
    "\n",
    "# Calculate linear regression values\n",
    "(nt_slope, nt_intercept, nt_rvalue, nt_pvalue, nt_stderr) = st.linregress(north_lat, north_temp)\n",
    "\n",
    "# Calculate r-squared\n",
    "nt_r_squared = round(nt_rvalue**2,5)\n",
    "print(f\"The r-squared is: {nt_r_squared}\")\n",
    "\n",
    "# y = mx + b\n",
    "nt_regress_values = north_lat * nt_slope + nt_intercept\n",
    "nt_line_eq = \"y = \" + str(round(nt_slope,2)) + \"x + \" + str(round(nt_intercept,2))\n",
    "\n",
    "# Gernerate scatter chart with liner regression line, equation of line, r-squared value\n",
    "plt.scatter(north_lat,\n",
    "            north_temp, \n",
    "            marker='o', \n",
    "            color='rosybrown', \n",
    "            edgecolor='black')\n",
    "\n",
    "plt.plot(north_lat,nt_regress_values, color='red', alpha=0.7)\n",
    "\n",
    "# Plot the Annotation in the graph \n",
    "plt.annotate(nt_line_eq,(5,30), fontsize=11, color=\"red\", fontweight='bold')\n",
    "plt.annotate(f'r-squared = {nt_r_squared}', (5,23), fontsize=11, color=\"red\", fontweight='bold')\n",
    "\n",
    "# Define title and x/y labels\n",
    "plt.title(f'City Latitude vs. Northern Hemisphere-Temperature (F) \\n(Date: {date})', fontweight='bold')\n",
    "plt.xlabel('Latitude', fontweight='bold')\n",
    "plt.ylabel('Max Temperature (F)', fontweight='bold')\n",
    "\n",
    "# Save box plot graph to Images folder\n",
    "plt.tight_layout()\n",
    "plt.savefig('Images/north_temp_lat.png')\n",
    "\n",
    "# Present the box plot chart\n",
    "plt.show()\n",
    "\n",
    "# To close pyplot\n",
    "plt.close()"
   ]
  },
  {
   "cell_type": "markdown",
   "metadata": {},
   "source": [
    "###  Southern Hemisphere - Max Temp vs. Latitude Linear Regression"
   ]
  },
  {
   "cell_type": "code",
   "execution_count": null,
   "metadata": {},
   "outputs": [],
   "source": [
    "# Define y values: Max Temperature (F)\n",
    "south_temp = south_df['Max Temp']\n",
    "\n",
    "# Calculate the correlation\n",
    "st_correlation = round(st.pearsonr(south_lat, south_temp)[0],2)\n",
    "print(f\"The correlation between Southern Temp(F) and Latitude is {st_correlation}\")\n",
    "\n",
    "# Calculate linear regression values\n",
    "(st_slope, st_intercept, st_rvalue, st_pvalue, st_stderr) = st.linregress(south_lat, south_temp)\n",
    "\n",
    "# Calculate r-squared\n",
    "st_r_squared = round(st_rvalue**2,5)\n",
    "print(f\"The r-squared is: {st_r_squared}\")\n",
    "\n",
    "# y = mx + b\n",
    "st_regress_values = south_lat * st_slope + st_intercept\n",
    "st_line_eq = \"y = \" + str(round(st_slope,2)) + \"x + \" + str(round(st_intercept,2))\n",
    "\n",
    "# Gernerate scatter chart with liner regression line, equation of line, r-squared value\n",
    "plt.scatter(south_lat,\n",
    "            south_temp, \n",
    "            marker='o', \n",
    "            color='rosybrown', \n",
    "            edgecolor='black')\n",
    "\n",
    "plt.plot(south_lat,st_regress_values, color='red', alpha=0.7)\n",
    "\n",
    "# Plot the Annotation in the graph \n",
    "plt.annotate(st_line_eq,(-22,45), fontsize=11, color=\"red\", fontweight='bold')\n",
    "plt.annotate(f'r-squared = {st_r_squared}', (-22,39), fontsize=11, color=\"red\", fontweight='bold')\n",
    "\n",
    "# Define title and x/y labels\n",
    "plt.title(f'City Latitude vs. Southern Hemisphere-Temperature (F) \\n(Date: {date})', fontweight='bold')\n",
    "plt.xlabel('Latitude', fontweight='bold')\n",
    "plt.ylabel('Max Temperature (F)', fontweight='bold')\n",
    "\n",
    "# Save box plot graph to Images folder\n",
    "plt.tight_layout()\n",
    "plt.savefig('Images/south_temp_lat.png')\n",
    "\n",
    "# Present the box plot chart\n",
    "plt.show()\n",
    "\n",
    "# To close pyplot\n",
    "plt.close()"
   ]
  },
  {
   "cell_type": "markdown",
   "metadata": {},
   "source": [
    "###  Northern Hemisphere - Humidity (%) vs. Latitude Linear Regression"
   ]
  },
  {
   "cell_type": "code",
   "execution_count": null,
   "metadata": {},
   "outputs": [],
   "source": [
    "# Define y values: Humidity (%)\n",
    "north_humd = north_df['Humidity'] # y_values\n",
    "\n",
    "# Calculate the correlation\n",
    "nh_correlation = round(st.pearsonr(north_lat, north_humd)[0],2)\n",
    "print(f\"The correlation between Northern Humudity and Latitude is {nh_correlation}\")\n",
    "\n",
    "# Calculate linear regression values\n",
    "(nh_slope, nh_intercept, nh_rvalue, nh_pvalue, nh_stderr) = st.linregress(north_lat, north_humd)\n",
    "\n",
    "# Calculate r-squared\n",
    "nh_r_squared = round(nt_rvalue**2,5)\n",
    "print(f\"The r-squared is: {nh_r_squared}\")\n",
    "\n",
    "# y = mx + b\n",
    "nh_regress_values = north_lat * nh_slope + nh_intercept\n",
    "nh_line_eq = \"y = \" + str(round(nh_slope,2)) + \"x + \" + str(round(nh_intercept,2))\n",
    "\n",
    "# Gernerate scatter chart with liner regression line, equation of line, r-squared value\n",
    "plt.scatter(north_lat,\n",
    "            north_humd, \n",
    "            marker='o', \n",
    "            color='cadetblue', \n",
    "            edgecolor='black')\n",
    "\n",
    "plt.plot(north_lat,nh_regress_values, color='red', alpha=0.7)\n",
    "\n",
    "# Plot the Annotation in the graph \n",
    "plt.annotate(nh_line_eq,(50,15), fontsize=11, color=\"red\", fontweight='bold')\n",
    "plt.annotate(f'r-squared = {nh_r_squared}', (50,8), fontsize=11, color=\"red\", fontweight='bold')\n",
    "\n",
    "# Define title and x/y labels\n",
    "plt.title(f'City Latitude vs. Northern Hemisphere-Humidity (%) \\n(Date: {date})', fontweight='bold')\n",
    "plt.xlabel('Latitude', fontweight='bold')\n",
    "plt.ylabel('Humidity (%)', fontweight='bold')\n",
    "\n",
    "# Save box plot graph to Images folder\n",
    "plt.tight_layout()\n",
    "plt.savefig('Images/north_humd_lat.png')\n",
    "\n",
    "# Present the box plot chart\n",
    "plt.show()\n",
    "\n",
    "# To close pyplot\n",
    "plt.close()"
   ]
  },
  {
   "cell_type": "markdown",
   "metadata": {},
   "source": [
    "###  Southern Hemisphere - Humidity (%) vs. Latitude Linear Regression"
   ]
  },
  {
   "cell_type": "code",
   "execution_count": null,
   "metadata": {},
   "outputs": [],
   "source": [
    "# Define y values: Humidity (%)\n",
    "south_humd = south_df['Humidity'] # y_values\n",
    "\n",
    "# Calculate the correlation\n",
    "sh_correlation = round(st.pearsonr(south_lat, south_humd)[0],2)\n",
    "print(f\"The correlation between Southern Humidity and Latitude is {sh_correlation}\")\n",
    "\n",
    "# Calculate linear regression values\n",
    "(sh_slope, sh_intercept, sh_rvalue, sh_pvalue, sh_stderr) = st.linregress(south_lat, south_humd)\n",
    "\n",
    "# Calculate r-squared\n",
    "sh_r_squared = round(st_rvalue**2,5)\n",
    "print(f\"The r-squared is: {sh_r_squared}\")\n",
    "\n",
    "# y = mx + b\n",
    "sh_regress_values = south_lat * sh_slope + sh_intercept\n",
    "sh_line_eq = \"y = \" + str(round(sh_slope,2)) + \"x + \" + str(round(sh_intercept,2))\n",
    "\n",
    "# Gernerate scatter chart with liner regression line, equation of line, r-squared value\n",
    "plt.scatter(south_lat,\n",
    "            south_humd, \n",
    "            marker='o', \n",
    "            color='cadetblue', \n",
    "            edgecolor='black')\n",
    "\n",
    "plt.plot(south_lat,sh_regress_values, color='red', alpha=0.7)\n",
    "\n",
    "# Plot the Annotation in the graph \n",
    "plt.annotate(sh_line_eq,(-57,23), fontsize=11, color=\"red\", fontweight='bold')\n",
    "plt.annotate(f'r-squared = {sh_r_squared}', (-57,18), fontsize=11, color=\"red\", fontweight='bold')\n",
    "\n",
    "# Define title and x/y labels\n",
    "plt.title(f'City Latitude vs. Southern Hemisphere-Humidity (%) \\n(Date: {date})', fontweight='bold')\n",
    "plt.xlabel('Latitude', fontweight='bold')\n",
    "plt.ylabel('Humidity (%)', fontweight='bold')\n",
    "\n",
    "# Save box plot graph to Images folder\n",
    "plt.tight_layout()\n",
    "plt.savefig('Images/south_humd_lat.png')\n",
    "\n",
    "# Present the box plot chart\n",
    "plt.show()\n",
    "\n",
    "# To close pyplot\n",
    "plt.close()"
   ]
  },
  {
   "cell_type": "markdown",
   "metadata": {},
   "source": [
    "###  Northern Hemisphere - Cloudiness (%) vs. Latitude Linear Regression"
   ]
  },
  {
   "cell_type": "code",
   "execution_count": null,
   "metadata": {},
   "outputs": [],
   "source": [
    "# Define y values: Cloudiness (%)\n",
    "north_cloud = north_df['Cloudiness']\n",
    "\n",
    "# Calculate the correlation\n",
    "nc_correlation = round(st.pearsonr(north_lat, north_cloud)[0],2)\n",
    "print(f\"The correlation between Northern Cloudiness and Latitude is {nc_correlation}\")\n",
    "\n",
    "# Calculate linear regression values\n",
    "(nc_slope, nc_intercept, nc_rvalue, nc_pvalue, nc_stderr) = st.linregress(north_lat, north_cloud)\n",
    "\n",
    "# Calculate r-squared\n",
    "nc_r_squared = round(nc_rvalue**2,5)\n",
    "print(f\"The r-squared is: {nc_r_squared}\")\n",
    "\n",
    "# y = mx + b\n",
    "nc_regress_values = north_lat * nc_slope + nc_intercept\n",
    "nc_line_eq = \"y = \" + str(round(nc_slope,2)) + \"x + \" + str(round(nc_intercept,2))\n",
    "\n",
    "# Gernerate scatter chart with liner regression line, equation of line, r-squared value\n",
    "plt.scatter(north_lat,\n",
    "            north_cloud, \n",
    "            marker='o', \n",
    "            color='lightblue', \n",
    "            edgecolor='black')\n",
    "\n",
    "plt.plot(north_lat,nc_regress_values, color='red', alpha=0.7)\n",
    "\n",
    "# Plot the Annotation in the graph \n",
    "plt.annotate(nc_line_eq,(10,60), fontsize=11, color=\"red\", fontweight='bold')\n",
    "plt.annotate(f'r-squared = {nc_r_squared}', (10,54), fontsize=11, color=\"red\", fontweight='bold')\n",
    "\n",
    "# Define title and x/y labels\n",
    "plt.title(f'City Latitude vs. Northern Hemisphere-Cloudiness (%) \\n(Date: {date})', fontweight='bold')\n",
    "plt.xlabel('Latitude', fontweight='bold')\n",
    "plt.ylabel('Cloudiness (%)', fontweight='bold')\n",
    "\n",
    "# Save box plot graph to Images folder\n",
    "plt.tight_layout()\n",
    "plt.savefig('Images/north_cloud_lat.png')\n",
    "\n",
    "# Present the box plot chart\n",
    "plt.show()\n",
    "\n",
    "# To close pyplot\n",
    "plt.close()"
   ]
  },
  {
   "cell_type": "markdown",
   "metadata": {},
   "source": [
    "###  Southern Hemisphere - Cloudiness (%) vs. Latitude Linear Regression"
   ]
  },
  {
   "cell_type": "code",
   "execution_count": null,
   "metadata": {},
   "outputs": [],
   "source": [
    "# Define y values: Cloudiness (%)\n",
    "south_cloud = south_df['Cloudiness']\n",
    "\n",
    "# Calculate the correlation\n",
    "sc_correlation = round(st.pearsonr(south_lat, south_cloud)[0],2)\n",
    "print(f\"The correlation between Southern Cloudiness and Latitude is {sc_correlation}\")\n",
    "\n",
    "# Calculate linear regression values\n",
    "(sc_slope, sc_intercept, sc_rvalue, sc_pvalue, sc_stderr) = st.linregress(south_lat, south_cloud)\n",
    "\n",
    "# Calculate r-squared\n",
    "sc_r_squared = round(sc_rvalue**2,5)\n",
    "print(f\"The r-squared is: {sc_r_squared}\")\n",
    "\n",
    "# y = mx + b\n",
    "sc_regress_values = south_lat * sc_slope + sc_intercept\n",
    "sc_line_eq = \"y = \" + str(round(sc_slope,2)) + \"x + \" + str(round(sc_intercept,2))\n",
    "\n",
    "# Gernerate scatter chart with liner regression line, equation of line, r-squared value\n",
    "plt.scatter(south_lat,\n",
    "            south_cloud, \n",
    "            marker='o', \n",
    "            color='lightblue', \n",
    "            edgecolor='black')\n",
    "\n",
    "plt.plot(south_lat,sc_regress_values, color='red', alpha=0.7)\n",
    "\n",
    "# Plot the Annotation in the graph \n",
    "plt.annotate(sc_line_eq,(-57,58), fontsize=11, color=\"red\", fontweight='bold')\n",
    "plt.annotate(f'r-squared = {sc_r_squared}', (-57,51), fontsize=11, color=\"red\", fontweight='bold')\n",
    "\n",
    "# Define title and x/y labels\n",
    "plt.title(f'City Latitude vs. Southern Hemisphere-Cloudiness \\n(Date: {date})', fontweight='bold')\n",
    "plt.xlabel('Latitude', fontweight='bold')\n",
    "plt.ylabel('Cloudiness (%)', fontweight='bold')\n",
    "\n",
    "# Save box plot graph to Images folder\n",
    "plt.tight_layout()\n",
    "plt.savefig('Images/south_cloud_lat.png')\n",
    "\n",
    "# Present the box plot chart\n",
    "plt.show()\n",
    "\n",
    "# To close pyplot\n",
    "plt.close()"
   ]
  },
  {
   "cell_type": "markdown",
   "metadata": {},
   "source": [
    "###  Northern Hemisphere - Wind Speed (mph) vs. Latitude Linear Regression"
   ]
  },
  {
   "cell_type": "code",
   "execution_count": null,
   "metadata": {},
   "outputs": [],
   "source": [
    "# Define y values: Wind Speed (mph)\n",
    "north_wind = north_df['Wind Speed']\n",
    "\n",
    "# Calculate the correlation\n",
    "nw_correlation = round(st.pearsonr(north_lat, north_wind)[0],2)\n",
    "print(f\"The correlation between Northern Wind Speed and Latitude is {nw_correlation}\")\n",
    "\n",
    "# Calculate linear regression values\n",
    "(nw_slope, nw_intercept, nw_rvalue, nw_pvalue, nw_stderr) = st.linregress(north_lat, north_wind)\n",
    "\n",
    "# Calculate r-squared\n",
    "nw_r_squared = round(nw_rvalue**2,5)\n",
    "print(f\"The r-squared is: {nw_r_squared}\")\n",
    "\n",
    "# y = mx + b\n",
    "nw_regress_values = north_lat * nw_slope + nw_intercept\n",
    "nw_line_eq = \"y = \" + str(round(nw_slope,2)) + \"x + \" + str(round(nw_intercept,2))\n",
    "\n",
    "# Gernerate scatter chart with liner regression line, equation of line, r-squared value\n",
    "plt.scatter(north_lat,\n",
    "            north_wind, \n",
    "            marker='o', \n",
    "            color='silver', \n",
    "            edgecolor='black')\n",
    "\n",
    "plt.plot(north_lat,nw_regress_values, color='red', alpha=0.7)\n",
    "\n",
    "# Plot the Annotation in the graph \n",
    "plt.annotate(nw_line_eq,(0,30), fontsize=11, color=\"red\", fontweight='bold')\n",
    "plt.annotate(f'r-squared = {nw_r_squared}', (0,28), fontsize=11, color=\"red\", fontweight='bold')\n",
    "\n",
    "# Define title and x/y labels\n",
    "plt.title(f'City Latitude vs. Northern Hemisphere-Wind Speed \\n(Date: {date})', fontweight='bold')\n",
    "plt.xlabel('Latitude', fontweight='bold')\n",
    "plt.ylabel('Wind Speed (mph)', fontweight='bold')\n",
    "\n",
    "# Save box plot graph to Images folder\n",
    "plt.tight_layout()\n",
    "plt.savefig('Images/north_wind_lat.png')\n",
    "\n",
    "# Present the box plot chart\n",
    "plt.show()\n",
    "\n",
    "# To close pyplot\n",
    "plt.close()"
   ]
  },
  {
   "cell_type": "markdown",
   "metadata": {},
   "source": [
    "###  Southern Hemisphere - Wind Speed (mph) vs. Latitude Linear Regression"
   ]
  },
  {
   "cell_type": "code",
   "execution_count": null,
   "metadata": {},
   "outputs": [],
   "source": [
    "# Define y values: Wind Speed (mph)\n",
    "south_wind = south_df['Wind Speed']\n",
    "\n",
    "# Calculate the correlation\n",
    "sw_correlation = round(st.pearsonr(south_lat, south_wind)[0],2)\n",
    "print(f\"The correlation between Southern Wind Speed and Latitude is {sw_correlation}\")\n",
    "\n",
    "# Calculate linear regression values\n",
    "(sw_slope, sw_intercept, sw_rvalue, sw_pvalue, sw_stderr) = st.linregress(south_lat, south_wind)\n",
    "\n",
    "# Calculate r-squared\n",
    "sw_r_squared = round(sw_rvalue**2,5)\n",
    "print(f\"The r-squared is: {sw_r_squared}\")\n",
    "\n",
    "# y = mx + b\n",
    "sw_regress_values = south_lat * sw_slope + sw_intercept\n",
    "sw_line_eq = \"y = \" + str(round(sw_slope,2)) + \"x + \" + str(round(sw_intercept,2))\n",
    "\n",
    "# Gernerate scatter chart with liner regression line, equation of line, r-squared value\n",
    "plt.scatter(south_lat,\n",
    "            south_wind, \n",
    "            marker='o', \n",
    "            color='silver', \n",
    "            edgecolor='black')\n",
    "\n",
    "plt.plot(south_lat,sw_regress_values, color='red', alpha=0.7)\n",
    "\n",
    "# Plot the Annotation in the graph \n",
    "plt.annotate(sw_line_eq,(-52,20.5), fontsize=11, color=\"red\", fontweight='bold')\n",
    "plt.annotate(f'r-squared = {sw_r_squared}', (-52,19), fontsize=11, color=\"red\", fontweight='bold')\n",
    "\n",
    "# Define title and x/y labels\n",
    "plt.title(f'City Latitude vs. Southern Hemisphere-Wind Speed \\n(Date: {date})', fontweight='bold')\n",
    "plt.xlabel('Latitude', fontweight='bold')\n",
    "plt.ylabel('Wind Speed (mph)', fontweight='bold')\n",
    "\n",
    "# Save box plot graph to Images folder\n",
    "plt.tight_layout()\n",
    "plt.savefig('Images/south_wind_lat.png')\n",
    "\n",
    "# Present the box plot chart\n",
    "plt.show()\n",
    "\n",
    "# To close pyplot\n",
    "plt.close()"
   ]
  },
  {
   "cell_type": "code",
   "execution_count": null,
   "metadata": {},
   "outputs": [],
   "source": []
  }
 ],
 "metadata": {
  "anaconda-cloud": {},
  "kernel_info": {
   "name": "python3"
  },
  "kernelspec": {
   "display_name": "Python 3",
   "language": "python",
   "name": "python3"
  },
  "language_info": {
   "codemirror_mode": {
    "name": "ipython",
    "version": 3
   },
   "file_extension": ".py",
   "mimetype": "text/x-python",
   "name": "python",
   "nbconvert_exporter": "python",
   "pygments_lexer": "ipython3",
   "version": "3.6.10"
  },
  "latex_envs": {
   "LaTeX_envs_menu_present": true,
   "autoclose": false,
   "autocomplete": true,
   "bibliofile": "biblio.bib",
   "cite_by": "apalike",
   "current_citInitial": 1,
   "eqLabelWithNumbers": true,
   "eqNumInitial": 1,
   "hotkeys": {
    "equation": "Ctrl-E",
    "itemize": "Ctrl-I"
   },
   "labels_anchors": false,
   "latex_user_defs": false,
   "report_style_numbering": false,
   "user_envs_cfg": false
  },
  "nteract": {
   "version": "0.12.3"
  }
 },
 "nbformat": 4,
 "nbformat_minor": 2
}
